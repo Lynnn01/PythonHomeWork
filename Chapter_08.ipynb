{
 "cells": [
  {
   "cell_type": "markdown",
   "metadata": {},
   "source": [
    "# แบบฝึกหัด บทที่ 8 ฟังก์ชัน"
   ]
  },
  {
   "attachments": {},
   "cell_type": "markdown",
   "metadata": {},
   "source": [
    "เจษฎา ตอนศรี 6512732101"
   ]
  },
  {
   "cell_type": "markdown",
   "metadata": {},
   "source": [
    "## 1.จงเขียนฟังก์ชันเพื่อหาผลรวมของข้อมูลสมาชิกภายในลิสต์ เช่น"
   ]
  },
  {
   "cell_type": "code",
   "execution_count": 4,
   "metadata": {},
   "outputs": [
    {
     "name": "stdout",
     "output_type": "stream",
     "text": [
      "20\n"
     ]
    }
   ],
   "source": [
    "\"\"\"\n",
    "Sample List: (8, 2, 3, 0, 7)\n",
    "Expected Output: 20\n",
    "\"\"\"\n",
    "\n",
    "\"\"\"\n",
    "คำตอบ\n",
    "\"\"\"\n",
    "def sumList(lt):\n",
    "    return sum(lt)\n",
    "\n",
    "x = [8, 2, 3, 0, 7]\n",
    "print(sumList(x))\n"
   ]
  },
  {
   "cell_type": "markdown",
   "metadata": {},
   "source": [
    "## 2.จงเขียนโปรแกรมเพื่อให้ได้ผลลัพธ์ดังต่อไปนี้\n",
    "\n",
    "จงเขียนฟังก์ชันที่ทำหน้าที่กลับสตริงจากหน้าเป็นหลัง \n",
    "\n",
    "โดยมีการส่งอาร์กิวเมนต์ที่เป็นสติงไปให้ฟังก์ชันทำงาน เช่น"
   ]
  },
  {
   "cell_type": "code",
   "execution_count": 9,
   "metadata": {},
   "outputs": [
    {
     "name": "stdout",
     "output_type": "stream",
     "text": [
      "dcba4321\n"
     ]
    }
   ],
   "source": [
    "\"\"\"\n",
    "Argument String: \"1234abcd\"\n",
    "Expected Output: \"dcba4321\"\n",
    "\"\"\"\n",
    "\n",
    "\"\"\"\n",
    "คำตอบ\n",
    "\"\"\"\n",
    "def reStr(str):\n",
    "    return str[::-1]\n",
    "    \n",
    "\n",
    "text = \"1234abcd\"\n",
    "print(reStr(text))"
   ]
  },
  {
   "cell_type": "markdown",
   "metadata": {},
   "source": [
    "## 3.จงเขียนโปรแกรมเพื่อให้ได้ผลลัพธ์ดังต่อไปนี้\n",
    "\n",
    "จงเขียนฟังก์ชันที่ทำหน้าที่สำหรับการตรวจสอบค่าซ้ำของข้อมูลสมาชิกภายในลิสต์ \n",
    "\n",
    "โดยการส่งอาร์กิวเมนต์ที่เป็นลิสต์ไปให้ฟังก์ชันทำงาน และฟังก์ชันจะทำการส่งผลลัพธ์ได้จากการดำเนินการออกมา เช่น\n",
    "\n",
    "Argument List: [1,2,3,3,3,3,4,5]\n",
    "\n",
    "Output List: [1, 2, 3, 4, 5]\n",
    "\n",
    "หรือ \n",
    "\n",
    "Argument List: [‘a’, ‘b’, ‘c’, ‘c’, ‘c’, ‘a’, ‘d’, ‘e’, ‘e’]\n",
    "\n",
    "Output List: [‘a’, ‘b’, ‘c’, ‘d’, ‘e’]\n"
   ]
  },
  {
   "cell_type": "code",
   "execution_count": 14,
   "metadata": {},
   "outputs": [
    {
     "ename": "SyntaxError",
     "evalue": "invalid syntax (4206328278.py, line 8)",
     "output_type": "error",
     "traceback": [
      "\u001b[1;36m  Cell \u001b[1;32mIn [14], line 8\u001b[1;36m\u001b[0m\n\u001b[1;33m    if i not j:\u001b[0m\n\u001b[1;37m             ^\u001b[0m\n\u001b[1;31mSyntaxError\u001b[0m\u001b[1;31m:\u001b[0m invalid syntax\n"
     ]
    }
   ],
   "source": [
    "\"\"\"\n",
    "คำตอบ\n",
    "\"\"\"\n",
    "def checkList(lt):\n",
    "    new_lt = []\n",
    "    \n",
    "    for i in range(lt):\n",
    "        \n",
    "\n",
    "my_list = [1,2,3,3,3,3,4,5]\n",
    "checkList(my_list)\n"
   ]
  },
  {
   "cell_type": "markdown",
   "metadata": {},
   "source": [
    "## 4.\tจงเขียนโปรแกรมเพื่อให้ได้ผลลัพธ์ดังต่อไปนี้ \n",
    "\n",
    "จงเขียนฟังก์ชันซึ่งรับค่าอาร์กิวเมนต์ที่เป็นจำนวนเต็ม และทำการเช็คว่าค่าที่รับมา   \n",
    "\n",
    "เป็นจำนวนเฉพาะหรือไม่ ถ้าใช่จำนวนเฉพาะให้ส่งคืนค่า True ออกมาและถ้าไม่ให้คืนค่า False"
   ]
  },
  {
   "cell_type": "code",
   "execution_count": null,
   "metadata": {},
   "outputs": [],
   "source": [
    "\"\"\"\n",
    "คำตอบ\n",
    "\"\"\"\n",
    "\n"
   ]
  },
  {
   "cell_type": "markdown",
   "metadata": {},
   "source": [
    "## 5. จงเขียนโปรแกรมเพื่อให้ได้ผลลัพธ์ดังต่อไปนี้ \n",
    "\n",
    "จงเขียนฟังก์ชันที่รับอาร์กิวเมนต์ที่เป็นสตริง ที่มีลักษณะเป็นคำผสมซึ่งเชื่อมด้วยเครื่องหมายยัติภังค์ ( - ) เมื่อฟังก์ชันรับค่าอาร์กิวเมนต์มาแล้วจะทำการสลับลำดับของคำใหม่      \n",
    "โดยเรียงลำดับตามตัวอักษร และส่งคืนค่าผลลัพธ์กลับคืนมาดังตัวอย่าง\n",
    "\n",
    "Argument : green-red-yellow-black-white\n",
    "\n",
    "Result : black-green-red-white-yellow\n"
   ]
  },
  {
   "cell_type": "code",
   "execution_count": null,
   "metadata": {},
   "outputs": [],
   "source": [
    "\"\"\"\n",
    "คำตอบ\n",
    "\"\"\"\n"
   ]
  },
  {
   "cell_type": "markdown",
   "metadata": {},
   "source": [
    "## 6.จงเขียนโปรแกรมเพื่อให้ได้ผลลัพธ์ดังต่อไปนี้\n",
    "\n",
    "จงเขียนฟังก์ชันที่ทำการรับสตริงภาษาอังกฤษทางอาร์กิวเมนต์ และทำการนับจำนวนตัวอักษรที่เป็นตัวใหญ่ และตัวเล็ก และทำการแสดงจำนวนออกมา เช่น\n",
    "\n",
    "Input String: 'The quick Brow Fox'\n",
    "\n",
    "Expected Output: \n",
    "\n",
    "No. of Upper case characters: 3\n",
    "\n",
    "No. of Lower case Characters: 12"
   ]
  },
  {
   "cell_type": "code",
   "execution_count": null,
   "metadata": {},
   "outputs": [],
   "source": [
    "\"\"\"\n",
    "คำตอบ\n",
    "\"\"\"\n",
    "\n"
   ]
  },
  {
   "cell_type": "markdown",
   "metadata": {},
   "source": [
    "## 7.จงเขียนโปรแกรมเพื่อให้ได้ผลลัพธ์ดังต่อไปนี้\n",
    "\n",
    "จงเขียนฟังก์ชันที่รับตัวเลขซึ่งเป็นจำนวนนาที \n",
    "\n",
    "และทำการคำนวณเพื่อแสดงผลในรูปแบบ ชั่วโมง : นาที"
   ]
  },
  {
   "cell_type": "code",
   "execution_count": null,
   "metadata": {},
   "outputs": [],
   "source": [
    "\"\"\"\n",
    "คำตอบ\n",
    "\"\"\"\n"
   ]
  },
  {
   "cell_type": "code",
   "execution_count": null,
   "metadata": {},
   "outputs": [],
   "source": []
  }
 ],
 "metadata": {
  "kernelspec": {
   "display_name": "Python 3",
   "language": "python",
   "name": "python3"
  },
  "language_info": {
   "codemirror_mode": {
    "name": "ipython",
    "version": 3
   },
   "file_extension": ".py",
   "mimetype": "text/x-python",
   "name": "python",
   "nbconvert_exporter": "python",
   "pygments_lexer": "ipython3",
   "version": "3.10.4 (tags/v3.10.4:9d38120, Mar 23 2022, 23:13:41) [MSC v.1929 64 bit (AMD64)]"
  },
  "vscode": {
   "interpreter": {
    "hash": "2cff56fd9add2e11eca66e569a0845a0b3313ed7f941c1ebfaadd79bab0f6744"
   }
  }
 },
 "nbformat": 4,
 "nbformat_minor": 4
}
