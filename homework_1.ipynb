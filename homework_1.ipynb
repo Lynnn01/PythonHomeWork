{
 "cells": [
  {
   "cell_type": "markdown",
   "id": "8c6c32f0-d084-4507-8b53-7153c2cf37d8",
   "metadata": {},
   "source": [
    "## ใบงานที่ 1 การส่งการบ้านทาง Git"
   ]
  },
  {
   "cell_type": "raw",
   "id": "fd2b6e0b-ac2d-4bcf-8538-11f41e2249eb",
   "metadata": {},
   "source": [
    "นายเจษฎา ตอนศรี 6512732101"
   ]
  },
  {
   "cell_type": "code",
   "execution_count": 1,
   "id": "6fdac77f-ce16-4149-b3c5-7ad9d8cd08eb",
   "metadata": {},
   "outputs": [
    {
     "name": "stdout",
     "output_type": "stream",
     "text": [
      "Hello, World\n"
     ]
    }
   ],
   "source": [
    "print(\"Hello, World\")"
   ]
  }
 ],
 "metadata": {
  "kernelspec": {
   "display_name": "Python 3 (ipykernel)",
   "language": "python",
   "name": "python3"
  },
  "language_info": {
   "codemirror_mode": {
    "name": "ipython",
    "version": 3
   },
   "file_extension": ".py",
   "mimetype": "text/x-python",
   "name": "python",
   "nbconvert_exporter": "python",
   "pygments_lexer": "ipython3",
   "version": "3.9.13"
  }
 },
 "nbformat": 4,
 "nbformat_minor": 5
}
